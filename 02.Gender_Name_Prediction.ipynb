{
 "cells": [
  {
   "cell_type": "code",
   "execution_count": 1,
   "metadata": {},
   "outputs": [],
   "source": [
    "import json\n",
    "import glob\n",
    "import ast\n",
    "\n",
    "import pandas as pd\n",
    "pd.options.mode.chained_assignment = None\n",
    "from tqdm.notebook import tqdm\n",
    "tqdm.pandas()\n",
    "\n",
    "%matplotlib inline\n",
    "import seaborn as sns\n",
    "import matplotlib.pyplot as plt\n",
    "\n",
    "from sentence_transformers.cross_encoder import CrossEncoder\n",
    "\n",
    "import os\n",
    "os.environ[\"TOKENIZERS_PARALLELISM\"] = \"false\""
   ]
  },
  {
   "cell_type": "code",
   "execution_count": 2,
   "metadata": {},
   "outputs": [
    {
     "data": {
      "text/html": [
       "<div>\n",
       "<style scoped>\n",
       "    .dataframe tbody tr th:only-of-type {\n",
       "        vertical-align: middle;\n",
       "    }\n",
       "\n",
       "    .dataframe tbody tr th {\n",
       "        vertical-align: top;\n",
       "    }\n",
       "\n",
       "    .dataframe thead th {\n",
       "        text-align: right;\n",
       "    }\n",
       "</style>\n",
       "<table border=\"1\" class=\"dataframe\">\n",
       "  <thead>\n",
       "    <tr style=\"text-align: right;\">\n",
       "      <th></th>\n",
       "      <th>id</th>\n",
       "      <th>name</th>\n",
       "      <th>org</th>\n",
       "    </tr>\n",
       "  </thead>\n",
       "  <tbody>\n",
       "    <tr>\n",
       "      <th>0</th>\n",
       "      <td>1898054021</td>\n",
       "      <td>Ioannis Delis</td>\n",
       "      <td>Department of Biomedical Sciences, University ...</td>\n",
       "    </tr>\n",
       "    <tr>\n",
       "      <th>1</th>\n",
       "      <td>2645550909</td>\n",
       "      <td>Pauline Hilt</td>\n",
       "      <td>Fondazione Istituto Italiano di Tecnologia, Ce...</td>\n",
       "    </tr>\n",
       "    <tr>\n",
       "      <th>2</th>\n",
       "      <td>531415370</td>\n",
       "      <td>Thierry Pozzo</td>\n",
       "      <td>Fondazione Istituto Italiano di Tecnologia, Ce...</td>\n",
       "    </tr>\n",
       "    <tr>\n",
       "      <th>3</th>\n",
       "      <td>322723101</td>\n",
       "      <td>Stefano Panzeri</td>\n",
       "      <td>Neural Computation Laboratory, Center for Neur...</td>\n",
       "    </tr>\n",
       "    <tr>\n",
       "      <th>4</th>\n",
       "      <td>79947125</td>\n",
       "      <td>Bastien Berret</td>\n",
       "      <td>Univ. Paris-Sud, Université Paris-Saclay, Orsa...</td>\n",
       "    </tr>\n",
       "    <tr>\n",
       "      <th>...</th>\n",
       "      <td>...</td>\n",
       "      <td>...</td>\n",
       "      <td>...</td>\n",
       "    </tr>\n",
       "    <tr>\n",
       "      <th>4398133</th>\n",
       "      <td>2962813519</td>\n",
       "      <td>Je-Kwang Ryu</td>\n",
       "      <td>NaN</td>\n",
       "    </tr>\n",
       "    <tr>\n",
       "      <th>4398134</th>\n",
       "      <td>2964296278</td>\n",
       "      <td>Boyuan Kong</td>\n",
       "      <td>Dept. of Electrical Engineering and Computer S...</td>\n",
       "    </tr>\n",
       "    <tr>\n",
       "      <th>4398135</th>\n",
       "      <td>2963126023</td>\n",
       "      <td>Fahem Kebair</td>\n",
       "      <td>NaN</td>\n",
       "    </tr>\n",
       "    <tr>\n",
       "      <th>4398136</th>\n",
       "      <td>2473832003</td>\n",
       "      <td>Asmaa H. Elsaid</td>\n",
       "      <td>Information Systems Department, Faculty of Com...</td>\n",
       "    </tr>\n",
       "    <tr>\n",
       "      <th>4398137</th>\n",
       "      <td>2771890869</td>\n",
       "      <td>Sankar Mukherjee</td>\n",
       "      <td>Dept. of Computer Science &amp; Engineering, India...</td>\n",
       "    </tr>\n",
       "  </tbody>\n",
       "</table>\n",
       "<p>4398138 rows × 3 columns</p>\n",
       "</div>"
      ],
      "text/plain": [
       "                 id              name  \\\n",
       "0        1898054021     Ioannis Delis   \n",
       "1        2645550909      Pauline Hilt   \n",
       "2         531415370     Thierry Pozzo   \n",
       "3         322723101   Stefano Panzeri   \n",
       "4          79947125    Bastien Berret   \n",
       "...             ...               ...   \n",
       "4398133  2962813519      Je-Kwang Ryu   \n",
       "4398134  2964296278       Boyuan Kong   \n",
       "4398135  2963126023      Fahem Kebair   \n",
       "4398136  2473832003   Asmaa H. Elsaid   \n",
       "4398137  2771890869  Sankar Mukherjee   \n",
       "\n",
       "                                                       org  \n",
       "0        Department of Biomedical Sciences, University ...  \n",
       "1        Fondazione Istituto Italiano di Tecnologia, Ce...  \n",
       "2        Fondazione Istituto Italiano di Tecnologia, Ce...  \n",
       "3        Neural Computation Laboratory, Center for Neur...  \n",
       "4        Univ. Paris-Sud, Université Paris-Saclay, Orsa...  \n",
       "...                                                    ...  \n",
       "4398133                                                NaN  \n",
       "4398134  Dept. of Electrical Engineering and Computer S...  \n",
       "4398135                                                NaN  \n",
       "4398136  Information Systems Department, Faculty of Com...  \n",
       "4398137  Dept. of Computer Science & Engineering, India...  \n",
       "\n",
       "[4398138 rows x 3 columns]"
      ]
     },
     "execution_count": 2,
     "metadata": {},
     "output_type": "execute_result"
    }
   ],
   "source": [
    "df = pd.read_csv(\"data/dblp/author.csv\")\n",
    "df"
   ]
  },
  {
   "cell_type": "code",
   "execution_count": 3,
   "metadata": {},
   "outputs": [
    {
     "data": {
      "text/html": [
       "<div>\n",
       "<style scoped>\n",
       "    .dataframe tbody tr th:only-of-type {\n",
       "        vertical-align: middle;\n",
       "    }\n",
       "\n",
       "    .dataframe tbody tr th {\n",
       "        vertical-align: top;\n",
       "    }\n",
       "\n",
       "    .dataframe thead th {\n",
       "        text-align: right;\n",
       "    }\n",
       "</style>\n",
       "<table border=\"1\" class=\"dataframe\">\n",
       "  <thead>\n",
       "    <tr style=\"text-align: right;\">\n",
       "      <th></th>\n",
       "      <th>id</th>\n",
       "      <th>name</th>\n",
       "      <th>org</th>\n",
       "    </tr>\n",
       "  </thead>\n",
       "  <tbody>\n",
       "    <tr>\n",
       "      <th>0</th>\n",
       "      <td>1898054021</td>\n",
       "      <td>Ioannis Delis</td>\n",
       "      <td>Department of Biomedical Sciences, University ...</td>\n",
       "    </tr>\n",
       "    <tr>\n",
       "      <th>1</th>\n",
       "      <td>2645550909</td>\n",
       "      <td>Pauline Hilt</td>\n",
       "      <td>Fondazione Istituto Italiano di Tecnologia, Ce...</td>\n",
       "    </tr>\n",
       "    <tr>\n",
       "      <th>2</th>\n",
       "      <td>531415370</td>\n",
       "      <td>Thierry Pozzo</td>\n",
       "      <td>Fondazione Istituto Italiano di Tecnologia, Ce...</td>\n",
       "    </tr>\n",
       "    <tr>\n",
       "      <th>3</th>\n",
       "      <td>322723101</td>\n",
       "      <td>Stefano Panzeri</td>\n",
       "      <td>Neural Computation Laboratory, Center for Neur...</td>\n",
       "    </tr>\n",
       "    <tr>\n",
       "      <th>4</th>\n",
       "      <td>79947125</td>\n",
       "      <td>Bastien Berret</td>\n",
       "      <td>Univ. Paris-Sud, Université Paris-Saclay, Orsa...</td>\n",
       "    </tr>\n",
       "    <tr>\n",
       "      <th>...</th>\n",
       "      <td>...</td>\n",
       "      <td>...</td>\n",
       "      <td>...</td>\n",
       "    </tr>\n",
       "    <tr>\n",
       "      <th>995</th>\n",
       "      <td>2903608352</td>\n",
       "      <td>Jiajun Zhuang</td>\n",
       "      <td>College of Automation, Zhongkai University of ...</td>\n",
       "    </tr>\n",
       "    <tr>\n",
       "      <th>996</th>\n",
       "      <td>2517837248</td>\n",
       "      <td>Shaoming Luo</td>\n",
       "      <td>College of Automation, Zhongkai University of ...</td>\n",
       "    </tr>\n",
       "    <tr>\n",
       "      <th>997</th>\n",
       "      <td>2766178101</td>\n",
       "      <td>Chaojun Hou</td>\n",
       "      <td>College of Automation, Zhongkai University of ...</td>\n",
       "    </tr>\n",
       "    <tr>\n",
       "      <th>998</th>\n",
       "      <td>2888051220</td>\n",
       "      <td>Yu Tang</td>\n",
       "      <td>College of Automation, Zhongkai University of ...</td>\n",
       "    </tr>\n",
       "    <tr>\n",
       "      <th>999</th>\n",
       "      <td>2656146205</td>\n",
       "      <td>Yong He</td>\n",
       "      <td>College of Biosystems Engineering and Food Sci...</td>\n",
       "    </tr>\n",
       "  </tbody>\n",
       "</table>\n",
       "<p>1000 rows × 3 columns</p>\n",
       "</div>"
      ],
      "text/plain": [
       "             id             name  \\\n",
       "0    1898054021    Ioannis Delis   \n",
       "1    2645550909     Pauline Hilt   \n",
       "2     531415370    Thierry Pozzo   \n",
       "3     322723101  Stefano Panzeri   \n",
       "4      79947125   Bastien Berret   \n",
       "..          ...              ...   \n",
       "995  2903608352    Jiajun Zhuang   \n",
       "996  2517837248     Shaoming Luo   \n",
       "997  2766178101      Chaojun Hou   \n",
       "998  2888051220          Yu Tang   \n",
       "999  2656146205          Yong He   \n",
       "\n",
       "                                                   org  \n",
       "0    Department of Biomedical Sciences, University ...  \n",
       "1    Fondazione Istituto Italiano di Tecnologia, Ce...  \n",
       "2    Fondazione Istituto Italiano di Tecnologia, Ce...  \n",
       "3    Neural Computation Laboratory, Center for Neur...  \n",
       "4    Univ. Paris-Sud, Université Paris-Saclay, Orsa...  \n",
       "..                                                 ...  \n",
       "995  College of Automation, Zhongkai University of ...  \n",
       "996  College of Automation, Zhongkai University of ...  \n",
       "997  College of Automation, Zhongkai University of ...  \n",
       "998  College of Automation, Zhongkai University of ...  \n",
       "999  College of Biosystems Engineering and Food Sci...  \n",
       "\n",
       "[1000 rows x 3 columns]"
      ]
     },
     "execution_count": 3,
     "metadata": {},
     "output_type": "execute_result"
    }
   ],
   "source": [
    "df_copy = df.copy()\n",
    "df_copy = df_copy[:1000]\n",
    "df_copy"
   ]
  },
  {
   "cell_type": "code",
   "execution_count": 4,
   "metadata": {},
   "outputs": [
    {
     "data": {
      "text/plain": [
       "{'id': 1898054021,\n",
       " 'name': 'Ioannis Delis',\n",
       " 'org': 'Department of Biomedical Sciences, University of Leeds, Leeds, UK'}"
      ]
     },
     "execution_count": 4,
     "metadata": {},
     "output_type": "execute_result"
    }
   ],
   "source": [
    "copy_records = df_copy.to_dict('records')\n",
    "copy_records[0]"
   ]
  },
  {
   "cell_type": "code",
   "execution_count": 5,
   "metadata": {},
   "outputs": [],
   "source": [
    "from functools import lru_cache\n",
    "\n",
    "class GenderClassifier(object):\n",
    "    \"\"\"\n",
    "    Class to predict gender for a given name\n",
    "    \"\"\"\n",
    "    def __init__(self, model_path):\n",
    "        \n",
    "        self.target_names = [\"female\", \"male\"]\n",
    "        self.model = self.load_model(model_path)\n",
    "        \n",
    "    @lru_cache(maxsize=128)\n",
    "    def load_model(self, model_path):\n",
    "        \"\"\" Load CrossEncoder classifier\n",
    "        \n",
    "        :param model_path: CrossEncoder model path\n",
    "        :return: classification model\n",
    "        \"\"\"\n",
    "        model = CrossEncoder(\n",
    "            model_path, \n",
    "            num_labels=len(self.target_names),\n",
    "            device='cpu'\n",
    "        )\n",
    "        return model\n",
    "        \n",
    "    def predict(self, name):\n",
    "        \"\"\"\n",
    "        Predict label\n",
    "        \n",
    "        :param name: input name\n",
    "        :return: predicted label, confidence\n",
    "        \"\"\"\n",
    "        prediction = dict()\n",
    "        \n",
    "        probs = self.model.predict(sentences=[name], apply_softmax=True)\n",
    "        target_idx = probs.argmax(axis=0)\n",
    "        confidence = probs[target_idx]\n",
    "        gender = self.target_names[probs.argmax(axis=0)]\n",
    "        \n",
    "        prediction[\"gender\"] = gender\n",
    "        prediction[\"confidence\"] = \"{0:.4f}\".format(confidence)\n",
    "        return prediction"
   ]
  },
  {
   "cell_type": "code",
   "execution_count": 6,
   "metadata": {},
   "outputs": [
    {
     "data": {
      "text/plain": [
       "'models/gender_name_detection/202303090944'"
      ]
     },
     "execution_count": 6,
     "metadata": {},
     "output_type": "execute_result"
    }
   ],
   "source": [
    "model_path = \"models/gender_name_detection/202303090944\"\n",
    "model_path"
   ]
  },
  {
   "cell_type": "code",
   "execution_count": 7,
   "metadata": {},
   "outputs": [],
   "source": [
    "classifier = GenderClassifier(model_path)"
   ]
  },
  {
   "cell_type": "code",
   "execution_count": 8,
   "metadata": {},
   "outputs": [
    {
     "data": {
      "text/plain": [
       "{'gender': 'female', 'confidence': '0.9856'}"
      ]
     },
     "execution_count": 8,
     "metadata": {},
     "output_type": "execute_result"
    }
   ],
   "source": [
    "classifier.predict(\"Anamaria Tamasan\")"
   ]
  },
  {
   "cell_type": "code",
   "execution_count": 9,
   "metadata": {},
   "outputs": [],
   "source": [
    "def predict_func(name):\n",
    "    \"\"\"\n",
    "    Predict gender for given\n",
    "    name\n",
    "    \"\"\"\n",
    "    pred = classifier.predict(name)\n",
    "    gender = pred[\"gender\"]\n",
    "    confidence = pred[\"confidence\"]\n",
    "    return pd.Series([gender, confidence])"
   ]
  },
  {
   "cell_type": "code",
   "execution_count": 10,
   "metadata": {},
   "outputs": [
    {
     "data": {
      "text/plain": [
       "0    female\n",
       "1    0.9856\n",
       "dtype: object"
      ]
     },
     "execution_count": 10,
     "metadata": {},
     "output_type": "execute_result"
    }
   ],
   "source": [
    "predict_func(\"Anamaria Tamasan\")"
   ]
  },
  {
   "cell_type": "code",
   "execution_count": 11,
   "metadata": {},
   "outputs": [
    {
     "data": {
      "text/plain": [
       "0      male\n",
       "1    0.9165\n",
       "dtype: object"
      ]
     },
     "execution_count": 11,
     "metadata": {},
     "output_type": "execute_result"
    }
   ],
   "source": [
    "predict_func(\"Dacian Tamasan\")"
   ]
  },
  {
   "cell_type": "code",
   "execution_count": 12,
   "metadata": {},
   "outputs": [
    {
     "data": {
      "application/vnd.jupyter.widget-view+json": {
       "model_id": "941221c7deff4f2f9940e9ac0ec1fa56",
       "version_major": 2,
       "version_minor": 0
      },
      "text/plain": [
       "  0%|          | 0/1000 [00:00<?, ?it/s]"
      ]
     },
     "metadata": {},
     "output_type": "display_data"
    },
    {
     "data": {
      "text/html": [
       "<div>\n",
       "<style scoped>\n",
       "    .dataframe tbody tr th:only-of-type {\n",
       "        vertical-align: middle;\n",
       "    }\n",
       "\n",
       "    .dataframe tbody tr th {\n",
       "        vertical-align: top;\n",
       "    }\n",
       "\n",
       "    .dataframe thead th {\n",
       "        text-align: right;\n",
       "    }\n",
       "</style>\n",
       "<table border=\"1\" class=\"dataframe\">\n",
       "  <thead>\n",
       "    <tr style=\"text-align: right;\">\n",
       "      <th></th>\n",
       "      <th>id</th>\n",
       "      <th>name</th>\n",
       "      <th>org</th>\n",
       "      <th>gender</th>\n",
       "      <th>confidence</th>\n",
       "    </tr>\n",
       "  </thead>\n",
       "  <tbody>\n",
       "    <tr>\n",
       "      <th>0</th>\n",
       "      <td>1898054021</td>\n",
       "      <td>Ioannis Delis</td>\n",
       "      <td>Department of Biomedical Sciences, University ...</td>\n",
       "      <td>male</td>\n",
       "      <td>0.9823</td>\n",
       "    </tr>\n",
       "    <tr>\n",
       "      <th>1</th>\n",
       "      <td>2645550909</td>\n",
       "      <td>Pauline Hilt</td>\n",
       "      <td>Fondazione Istituto Italiano di Tecnologia, Ce...</td>\n",
       "      <td>male</td>\n",
       "      <td>0.8822</td>\n",
       "    </tr>\n",
       "    <tr>\n",
       "      <th>2</th>\n",
       "      <td>531415370</td>\n",
       "      <td>Thierry Pozzo</td>\n",
       "      <td>Fondazione Istituto Italiano di Tecnologia, Ce...</td>\n",
       "      <td>male</td>\n",
       "      <td>0.9869</td>\n",
       "    </tr>\n",
       "    <tr>\n",
       "      <th>3</th>\n",
       "      <td>322723101</td>\n",
       "      <td>Stefano Panzeri</td>\n",
       "      <td>Neural Computation Laboratory, Center for Neur...</td>\n",
       "      <td>male</td>\n",
       "      <td>0.9862</td>\n",
       "    </tr>\n",
       "    <tr>\n",
       "      <th>4</th>\n",
       "      <td>79947125</td>\n",
       "      <td>Bastien Berret</td>\n",
       "      <td>Univ. Paris-Sud, Université Paris-Saclay, Orsa...</td>\n",
       "      <td>male</td>\n",
       "      <td>0.8313</td>\n",
       "    </tr>\n",
       "    <tr>\n",
       "      <th>...</th>\n",
       "      <td>...</td>\n",
       "      <td>...</td>\n",
       "      <td>...</td>\n",
       "      <td>...</td>\n",
       "      <td>...</td>\n",
       "    </tr>\n",
       "    <tr>\n",
       "      <th>995</th>\n",
       "      <td>2903608352</td>\n",
       "      <td>Jiajun Zhuang</td>\n",
       "      <td>College of Automation, Zhongkai University of ...</td>\n",
       "      <td>male</td>\n",
       "      <td>0.9114</td>\n",
       "    </tr>\n",
       "    <tr>\n",
       "      <th>996</th>\n",
       "      <td>2517837248</td>\n",
       "      <td>Shaoming Luo</td>\n",
       "      <td>College of Automation, Zhongkai University of ...</td>\n",
       "      <td>male</td>\n",
       "      <td>0.6488</td>\n",
       "    </tr>\n",
       "    <tr>\n",
       "      <th>997</th>\n",
       "      <td>2766178101</td>\n",
       "      <td>Chaojun Hou</td>\n",
       "      <td>College of Automation, Zhongkai University of ...</td>\n",
       "      <td>male</td>\n",
       "      <td>0.8608</td>\n",
       "    </tr>\n",
       "    <tr>\n",
       "      <th>998</th>\n",
       "      <td>2888051220</td>\n",
       "      <td>Yu Tang</td>\n",
       "      <td>College of Automation, Zhongkai University of ...</td>\n",
       "      <td>male</td>\n",
       "      <td>0.6806</td>\n",
       "    </tr>\n",
       "    <tr>\n",
       "      <th>999</th>\n",
       "      <td>2656146205</td>\n",
       "      <td>Yong He</td>\n",
       "      <td>College of Biosystems Engineering and Food Sci...</td>\n",
       "      <td>male</td>\n",
       "      <td>0.9664</td>\n",
       "    </tr>\n",
       "  </tbody>\n",
       "</table>\n",
       "<p>1000 rows × 5 columns</p>\n",
       "</div>"
      ],
      "text/plain": [
       "             id             name  \\\n",
       "0    1898054021    Ioannis Delis   \n",
       "1    2645550909     Pauline Hilt   \n",
       "2     531415370    Thierry Pozzo   \n",
       "3     322723101  Stefano Panzeri   \n",
       "4      79947125   Bastien Berret   \n",
       "..          ...              ...   \n",
       "995  2903608352    Jiajun Zhuang   \n",
       "996  2517837248     Shaoming Luo   \n",
       "997  2766178101      Chaojun Hou   \n",
       "998  2888051220          Yu Tang   \n",
       "999  2656146205          Yong He   \n",
       "\n",
       "                                                   org gender confidence  \n",
       "0    Department of Biomedical Sciences, University ...   male     0.9823  \n",
       "1    Fondazione Istituto Italiano di Tecnologia, Ce...   male     0.8822  \n",
       "2    Fondazione Istituto Italiano di Tecnologia, Ce...   male     0.9869  \n",
       "3    Neural Computation Laboratory, Center for Neur...   male     0.9862  \n",
       "4    Univ. Paris-Sud, Université Paris-Saclay, Orsa...   male     0.8313  \n",
       "..                                                 ...    ...        ...  \n",
       "995  College of Automation, Zhongkai University of ...   male     0.9114  \n",
       "996  College of Automation, Zhongkai University of ...   male     0.6488  \n",
       "997  College of Automation, Zhongkai University of ...   male     0.8608  \n",
       "998  College of Automation, Zhongkai University of ...   male     0.6806  \n",
       "999  College of Biosystems Engineering and Food Sci...   male     0.9664  \n",
       "\n",
       "[1000 rows x 5 columns]"
      ]
     },
     "execution_count": 12,
     "metadata": {},
     "output_type": "execute_result"
    }
   ],
   "source": [
    "df_copy[['gender', 'confidence']] = df_copy['name'].progress_apply(lambda x: predict_func(x))\n",
    "df_copy"
   ]
  },
  {
   "cell_type": "code",
   "execution_count": 13,
   "metadata": {},
   "outputs": [
    {
     "data": {
      "text/plain": [
       "male      763\n",
       "female    237\n",
       "Name: gender, dtype: int64"
      ]
     },
     "execution_count": 13,
     "metadata": {},
     "output_type": "execute_result"
    }
   ],
   "source": [
    "df_copy['gender'].value_counts()"
   ]
  },
  {
   "cell_type": "code",
   "execution_count": 14,
   "metadata": {},
   "outputs": [
    {
     "data": {
      "text/plain": [
       "[{'id': 1898054021,\n",
       "  'name': 'Ioannis Delis',\n",
       "  'org': 'Department of Biomedical Sciences, University of Leeds, Leeds, UK'},\n",
       " {'id': 2645550909,\n",
       "  'name': 'Pauline Hilt',\n",
       "  'org': 'Fondazione Istituto Italiano di Tecnologia, Centro di Neurofisiologia traslazionale c/o sezione Fisiologia Umana, Ferrara, Italy'},\n",
       " {'id': 531415370,\n",
       "  'name': 'Thierry Pozzo',\n",
       "  'org': 'Fondazione Istituto Italiano di Tecnologia, Centro di Neurofisiologia traslazionale c/o sezione Fisiologia Umana, Ferrara, Italy'},\n",
       " {'id': 322723101,\n",
       "  'name': 'Stefano Panzeri',\n",
       "  'org': 'Neural Computation Laboratory, Center for Neuroscience and Cognitive Systems@UniTn, Istituto Italiano di Tecnologia, Rovereto (TN), Italy'},\n",
       " {'id': 79947125,\n",
       "  'name': 'Bastien Berret',\n",
       "  'org': 'Univ. Paris-Sud, Université Paris-Saclay, Orsay Cedex, France'}]"
      ]
     },
     "execution_count": 14,
     "metadata": {},
     "output_type": "execute_result"
    }
   ],
   "source": [
    "copy_records[:5]"
   ]
  },
  {
   "cell_type": "code",
   "execution_count": 15,
   "metadata": {},
   "outputs": [
    {
     "data": {
      "text/plain": [
       "1000"
      ]
     },
     "execution_count": 15,
     "metadata": {},
     "output_type": "execute_result"
    }
   ],
   "source": [
    "len(copy_records)"
   ]
  },
  {
   "cell_type": "code",
   "execution_count": 16,
   "metadata": {},
   "outputs": [
    {
     "data": {
      "text/html": [
       "<div>\n",
       "<style scoped>\n",
       "    .dataframe tbody tr th:only-of-type {\n",
       "        vertical-align: middle;\n",
       "    }\n",
       "\n",
       "    .dataframe tbody tr th {\n",
       "        vertical-align: top;\n",
       "    }\n",
       "\n",
       "    .dataframe thead th {\n",
       "        text-align: right;\n",
       "    }\n",
       "</style>\n",
       "<table border=\"1\" class=\"dataframe\">\n",
       "  <thead>\n",
       "    <tr style=\"text-align: right;\">\n",
       "      <th></th>\n",
       "      <th>id</th>\n",
       "      <th>name</th>\n",
       "      <th>org</th>\n",
       "    </tr>\n",
       "  </thead>\n",
       "  <tbody>\n",
       "    <tr>\n",
       "      <th>0</th>\n",
       "      <td>1898054021</td>\n",
       "      <td>Ioannis Delis</td>\n",
       "      <td>Department of Biomedical Sciences, University ...</td>\n",
       "    </tr>\n",
       "    <tr>\n",
       "      <th>1</th>\n",
       "      <td>2645550909</td>\n",
       "      <td>Pauline Hilt</td>\n",
       "      <td>Fondazione Istituto Italiano di Tecnologia, Ce...</td>\n",
       "    </tr>\n",
       "    <tr>\n",
       "      <th>2</th>\n",
       "      <td>531415370</td>\n",
       "      <td>Thierry Pozzo</td>\n",
       "      <td>Fondazione Istituto Italiano di Tecnologia, Ce...</td>\n",
       "    </tr>\n",
       "    <tr>\n",
       "      <th>3</th>\n",
       "      <td>322723101</td>\n",
       "      <td>Stefano Panzeri</td>\n",
       "      <td>Neural Computation Laboratory, Center for Neur...</td>\n",
       "    </tr>\n",
       "    <tr>\n",
       "      <th>4</th>\n",
       "      <td>79947125</td>\n",
       "      <td>Bastien Berret</td>\n",
       "      <td>Univ. Paris-Sud, Université Paris-Saclay, Orsa...</td>\n",
       "    </tr>\n",
       "    <tr>\n",
       "      <th>...</th>\n",
       "      <td>...</td>\n",
       "      <td>...</td>\n",
       "      <td>...</td>\n",
       "    </tr>\n",
       "    <tr>\n",
       "      <th>4398133</th>\n",
       "      <td>2962813519</td>\n",
       "      <td>Je-Kwang Ryu</td>\n",
       "      <td>NaN</td>\n",
       "    </tr>\n",
       "    <tr>\n",
       "      <th>4398134</th>\n",
       "      <td>2964296278</td>\n",
       "      <td>Boyuan Kong</td>\n",
       "      <td>Dept. of Electrical Engineering and Computer S...</td>\n",
       "    </tr>\n",
       "    <tr>\n",
       "      <th>4398135</th>\n",
       "      <td>2963126023</td>\n",
       "      <td>Fahem Kebair</td>\n",
       "      <td>NaN</td>\n",
       "    </tr>\n",
       "    <tr>\n",
       "      <th>4398136</th>\n",
       "      <td>2473832003</td>\n",
       "      <td>Asmaa H. Elsaid</td>\n",
       "      <td>Information Systems Department, Faculty of Com...</td>\n",
       "    </tr>\n",
       "    <tr>\n",
       "      <th>4398137</th>\n",
       "      <td>2771890869</td>\n",
       "      <td>Sankar Mukherjee</td>\n",
       "      <td>Dept. of Computer Science &amp; Engineering, India...</td>\n",
       "    </tr>\n",
       "  </tbody>\n",
       "</table>\n",
       "<p>4398138 rows × 3 columns</p>\n",
       "</div>"
      ],
      "text/plain": [
       "                 id              name  \\\n",
       "0        1898054021     Ioannis Delis   \n",
       "1        2645550909      Pauline Hilt   \n",
       "2         531415370     Thierry Pozzo   \n",
       "3         322723101   Stefano Panzeri   \n",
       "4          79947125    Bastien Berret   \n",
       "...             ...               ...   \n",
       "4398133  2962813519      Je-Kwang Ryu   \n",
       "4398134  2964296278       Boyuan Kong   \n",
       "4398135  2963126023      Fahem Kebair   \n",
       "4398136  2473832003   Asmaa H. Elsaid   \n",
       "4398137  2771890869  Sankar Mukherjee   \n",
       "\n",
       "                                                       org  \n",
       "0        Department of Biomedical Sciences, University ...  \n",
       "1        Fondazione Istituto Italiano di Tecnologia, Ce...  \n",
       "2        Fondazione Istituto Italiano di Tecnologia, Ce...  \n",
       "3        Neural Computation Laboratory, Center for Neur...  \n",
       "4        Univ. Paris-Sud, Université Paris-Saclay, Orsa...  \n",
       "...                                                    ...  \n",
       "4398133                                                NaN  \n",
       "4398134  Dept. of Electrical Engineering and Computer S...  \n",
       "4398135                                                NaN  \n",
       "4398136  Information Systems Department, Faculty of Com...  \n",
       "4398137  Dept. of Computer Science & Engineering, India...  \n",
       "\n",
       "[4398138 rows x 3 columns]"
      ]
     },
     "execution_count": 16,
     "metadata": {},
     "output_type": "execute_result"
    }
   ],
   "source": [
    "df"
   ]
  },
  {
   "cell_type": "code",
   "execution_count": 17,
   "metadata": {},
   "outputs": [
    {
     "data": {
      "application/vnd.jupyter.widget-view+json": {
       "model_id": "f2c9206696c3481bb00af1b7e49e9a8c",
       "version_major": 2,
       "version_minor": 0
      },
      "text/plain": [
       "  0%|          | 0/4398138 [00:00<?, ?it/s]"
      ]
     },
     "metadata": {},
     "output_type": "display_data"
    },
    {
     "data": {
      "text/html": [
       "<div>\n",
       "<style scoped>\n",
       "    .dataframe tbody tr th:only-of-type {\n",
       "        vertical-align: middle;\n",
       "    }\n",
       "\n",
       "    .dataframe tbody tr th {\n",
       "        vertical-align: top;\n",
       "    }\n",
       "\n",
       "    .dataframe thead th {\n",
       "        text-align: right;\n",
       "    }\n",
       "</style>\n",
       "<table border=\"1\" class=\"dataframe\">\n",
       "  <thead>\n",
       "    <tr style=\"text-align: right;\">\n",
       "      <th></th>\n",
       "      <th>id</th>\n",
       "      <th>name</th>\n",
       "      <th>org</th>\n",
       "      <th>gender</th>\n",
       "      <th>confidence</th>\n",
       "    </tr>\n",
       "  </thead>\n",
       "  <tbody>\n",
       "    <tr>\n",
       "      <th>0</th>\n",
       "      <td>1898054021</td>\n",
       "      <td>Ioannis Delis</td>\n",
       "      <td>Department of Biomedical Sciences, University ...</td>\n",
       "      <td>male</td>\n",
       "      <td>0.9823</td>\n",
       "    </tr>\n",
       "    <tr>\n",
       "      <th>1</th>\n",
       "      <td>2645550909</td>\n",
       "      <td>Pauline Hilt</td>\n",
       "      <td>Fondazione Istituto Italiano di Tecnologia, Ce...</td>\n",
       "      <td>male</td>\n",
       "      <td>0.8822</td>\n",
       "    </tr>\n",
       "    <tr>\n",
       "      <th>2</th>\n",
       "      <td>531415370</td>\n",
       "      <td>Thierry Pozzo</td>\n",
       "      <td>Fondazione Istituto Italiano di Tecnologia, Ce...</td>\n",
       "      <td>male</td>\n",
       "      <td>0.9869</td>\n",
       "    </tr>\n",
       "    <tr>\n",
       "      <th>3</th>\n",
       "      <td>322723101</td>\n",
       "      <td>Stefano Panzeri</td>\n",
       "      <td>Neural Computation Laboratory, Center for Neur...</td>\n",
       "      <td>male</td>\n",
       "      <td>0.9862</td>\n",
       "    </tr>\n",
       "    <tr>\n",
       "      <th>4</th>\n",
       "      <td>79947125</td>\n",
       "      <td>Bastien Berret</td>\n",
       "      <td>Univ. Paris-Sud, Université Paris-Saclay, Orsa...</td>\n",
       "      <td>male</td>\n",
       "      <td>0.8313</td>\n",
       "    </tr>\n",
       "    <tr>\n",
       "      <th>...</th>\n",
       "      <td>...</td>\n",
       "      <td>...</td>\n",
       "      <td>...</td>\n",
       "      <td>...</td>\n",
       "      <td>...</td>\n",
       "    </tr>\n",
       "    <tr>\n",
       "      <th>4398133</th>\n",
       "      <td>2962813519</td>\n",
       "      <td>Je-Kwang Ryu</td>\n",
       "      <td>NaN</td>\n",
       "      <td>male</td>\n",
       "      <td>0.9778</td>\n",
       "    </tr>\n",
       "    <tr>\n",
       "      <th>4398134</th>\n",
       "      <td>2964296278</td>\n",
       "      <td>Boyuan Kong</td>\n",
       "      <td>Dept. of Electrical Engineering and Computer S...</td>\n",
       "      <td>male</td>\n",
       "      <td>0.9575</td>\n",
       "    </tr>\n",
       "    <tr>\n",
       "      <th>4398135</th>\n",
       "      <td>2963126023</td>\n",
       "      <td>Fahem Kebair</td>\n",
       "      <td>NaN</td>\n",
       "      <td>male</td>\n",
       "      <td>0.9441</td>\n",
       "    </tr>\n",
       "    <tr>\n",
       "      <th>4398136</th>\n",
       "      <td>2473832003</td>\n",
       "      <td>Asmaa H. Elsaid</td>\n",
       "      <td>Information Systems Department, Faculty of Com...</td>\n",
       "      <td>female</td>\n",
       "      <td>0.9148</td>\n",
       "    </tr>\n",
       "    <tr>\n",
       "      <th>4398137</th>\n",
       "      <td>2771890869</td>\n",
       "      <td>Sankar Mukherjee</td>\n",
       "      <td>Dept. of Computer Science &amp; Engineering, India...</td>\n",
       "      <td>male</td>\n",
       "      <td>0.9411</td>\n",
       "    </tr>\n",
       "  </tbody>\n",
       "</table>\n",
       "<p>4398138 rows × 5 columns</p>\n",
       "</div>"
      ],
      "text/plain": [
       "                 id              name  \\\n",
       "0        1898054021     Ioannis Delis   \n",
       "1        2645550909      Pauline Hilt   \n",
       "2         531415370     Thierry Pozzo   \n",
       "3         322723101   Stefano Panzeri   \n",
       "4          79947125    Bastien Berret   \n",
       "...             ...               ...   \n",
       "4398133  2962813519      Je-Kwang Ryu   \n",
       "4398134  2964296278       Boyuan Kong   \n",
       "4398135  2963126023      Fahem Kebair   \n",
       "4398136  2473832003   Asmaa H. Elsaid   \n",
       "4398137  2771890869  Sankar Mukherjee   \n",
       "\n",
       "                                                       org  gender confidence  \n",
       "0        Department of Biomedical Sciences, University ...    male     0.9823  \n",
       "1        Fondazione Istituto Italiano di Tecnologia, Ce...    male     0.8822  \n",
       "2        Fondazione Istituto Italiano di Tecnologia, Ce...    male     0.9869  \n",
       "3        Neural Computation Laboratory, Center for Neur...    male     0.9862  \n",
       "4        Univ. Paris-Sud, Université Paris-Saclay, Orsa...    male     0.8313  \n",
       "...                                                    ...     ...        ...  \n",
       "4398133                                                NaN    male     0.9778  \n",
       "4398134  Dept. of Electrical Engineering and Computer S...    male     0.9575  \n",
       "4398135                                                NaN    male     0.9441  \n",
       "4398136  Information Systems Department, Faculty of Com...  female     0.9148  \n",
       "4398137  Dept. of Computer Science & Engineering, India...    male     0.9411  \n",
       "\n",
       "[4398138 rows x 5 columns]"
      ]
     },
     "execution_count": 17,
     "metadata": {},
     "output_type": "execute_result"
    }
   ],
   "source": [
    "df[['gender', 'confidence']] = df['name'].progress_apply(lambda x: predict_func(x))\n",
    "df"
   ]
  },
  {
   "cell_type": "code",
   "execution_count": 19,
   "metadata": {},
   "outputs": [],
   "source": [
    "df.to_csv('data/dblp/author_gender.csv', index=False)"
   ]
  },
  {
   "cell_type": "code",
   "execution_count": 20,
   "metadata": {},
   "outputs": [
    {
     "data": {
      "text/plain": [
       "male      3306401\n",
       "female    1091737\n",
       "Name: gender, dtype: int64"
      ]
     },
     "execution_count": 20,
     "metadata": {},
     "output_type": "execute_result"
    }
   ],
   "source": [
    "df[\"gender\"].value_counts()"
   ]
  },
  {
   "cell_type": "raw",
   "metadata": {},
   "source": [
    "What is the gender data distribution?"
   ]
  },
  {
   "cell_type": "code",
   "execution_count": 21,
   "metadata": {},
   "outputs": [
    {
     "name": "stdout",
     "output_type": "stream",
     "text": [
      "Total gender counts =  3306401\n"
     ]
    },
    {
     "data": {
      "image/png": "[encoded data removed]",
      "text/plain": [
       "<Figure size 640x480 with 1 Axes>"
      ]
     },
     "metadata": {},
     "output_type": "display_data"
    }
   ],
   "source": [
    "df['gender'].value_counts()\n",
    "print(\"Total gender counts = \", df['gender'].value_counts()[0])\n",
    "ax = sns.countplot(x=df['gender']).set(title='Gender data distribution')"
   ]
  }
 ],
 "metadata": {
  "kernelspec": {
   "display_name": "Python 3",
   "language": "python",
   "name": "python3"
  },
  "language_info": {
   "codemirror_mode": {
    "name": "ipython",
    "version": 3
   },
   "file_extension": ".py",
   "mimetype": "text/x-python",
   "name": "python",
   "nbconvert_exporter": "python",
   "pygments_lexer": "ipython3",
   "version": "3.9.5"
  }
 },
 "nbformat": 4,
 "nbformat_minor": 4
}
